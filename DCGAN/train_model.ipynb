{
 "cells": [
  {
   "cell_type": "code",
   "execution_count": 1,
   "metadata": {},
   "outputs": [],
   "source": [
    "import torch\n",
    "import torch.nn as nn\n",
    "import torchvision.transforms as T\n",
    "from torch.utils.data import DataLoader\n",
    "from torchvision.datasets import ImageFolder\n",
    "from model import Discriminator, Generator, initialize_weights\n",
    "import tqdm\n",
    "\n",
    "from PIL import Image\n",
    "import numpy as np"
   ]
  },
  {
   "cell_type": "code",
   "execution_count": 2,
   "metadata": {},
   "outputs": [],
   "source": [
    "device = torch.device('cuda' if torch.cuda.is_available() else 'cpu')\n",
    "lr = 2e-4\n",
    "batch_size = 64\n",
    "image_size = 64\n",
    "channels = 3\n",
    "z_dim = 100\n",
    "epochs = 50\n",
    "features_disc = 64\n",
    "features_gen = 64"
   ]
  },
  {
   "cell_type": "code",
   "execution_count": 3,
   "metadata": {},
   "outputs": [],
   "source": [
    "transforms = T.Compose(\n",
    "    [\n",
    "        T.Resize(image_size),\n",
    "        T.ToTensor(),\n",
    "        T.Normalize([0.5 for _ in range(channels)], [0.5 for _ in range(channels)]),\n",
    "    ]\n",
    ")"
   ]
  },
  {
   "cell_type": "code",
   "execution_count": 4,
   "metadata": {},
   "outputs": [],
   "source": [
    "dataset = ImageFolder(root='./dataset/', transform=transforms)\n",
    "loader = DataLoader(dataset=dataset, batch_size=batch_size, shuffle=True)"
   ]
  },
  {
   "cell_type": "code",
   "execution_count": 5,
   "metadata": {},
   "outputs": [],
   "source": [
    "gen = Generator(z_dim, channels, features_gen).to(device)\n",
    "disc = Discriminator(channels, features_disc).to(device)\n",
    "initialize_weights(disc)\n",
    "initialize_weights(gen)\n",
    "\n",
    "optimizer_gen = torch.optim.Adam(gen.parameters(), lr=lr, betas=(0.5, 0.999))\n",
    "optimizer_disc = torch.optim.Adam(disc.parameters(), lr=lr, betas=(0.5, 0.999))\n",
    "criterion = nn.BCELoss()\n",
    "\n",
    "fixed_noise = torch.randn(32, z_dim, 1, 1).to(device)"
   ]
  },
  {
   "cell_type": "code",
   "execution_count": 6,
   "metadata": {},
   "outputs": [],
   "source": [
    "def create_image_with_labels(fake_images, real_images):\n",
    "    fake_images = fake_images.cpu().detach().numpy()\n",
    "    real_images = real_images.cpu().detach().numpy()\n",
    "\n",
    "    margin = 10\n",
    "    image_size = 64\n",
    "\n",
    "    image_width = 32*image_size+31*margin\n",
    "    image_height = 4*image_size+3*margin\n",
    "    background_color = (255, 255, 255)\n",
    "    image = Image.new('RGB', (image_width, image_height), background_color)\n",
    "\n",
    "    x = 0\n",
    "    y = 0\n",
    "    for i, img in enumerate(fake_images):\n",
    "        img = img[0] * 255\n",
    "        img = Image.fromarray(np.uint8(img))\n",
    "        image.paste(img, (x, y))\n",
    "        x += image_size + margin\n",
    "        if i == 15 or i == len(fake_images)-1:\n",
    "            x = 0\n",
    "            y += image_size + margin\n",
    "\n",
    "    for i, img in enumerate(real_images):\n",
    "        img = img[0] * 255\n",
    "        img = Image.fromarray(np.uint8(img))\n",
    "        image.paste(img, (x, y))\n",
    "        x += image_size + margin\n",
    "        if i == 15 or i == len(real_images)-1:\n",
    "            x = 0\n",
    "            y += image_size + margin\n",
    "\n",
    "    return image"
   ]
  },
  {
   "cell_type": "code",
   "execution_count": null,
   "metadata": {},
   "outputs": [],
   "source": [
    "for epoch in range(epochs):\n",
    "    for (real, _) in tqdm.tqdm(loader):\n",
    "        real = real.to(device)\n",
    "        noise = torch.randn(batch_size, z_dim, 1, 1).to(device)\n",
    "        fake = gen(noise)\n",
    "        \n",
    "        disc_real = disc(real).view(-1)\n",
    "        lossD_real = criterion(disc_real, torch.ones_like(disc_real))\n",
    "\n",
    "        disc_fake = disc(fake).view(-1)\n",
    "        lossD_fake = criterion(disc_fake, torch.zeros_like(disc_fake))\n",
    "\n",
    "        lossD = (lossD_real + lossD_fake)/2\n",
    "        disc.zero_grad()\n",
    "        lossD.backward(retain_graph=True)\n",
    "        optimizer_disc.step()\n",
    "\n",
    "\n",
    "        output = disc(fake).view(-1)\n",
    "        lossG = criterion(output, torch.ones_like(output))\n",
    "        gen.zero_grad()\n",
    "        lossG.backward()\n",
    "        optimizer_gen.step()\n",
    "\n",
    "    print(f'Epoch: {epoch}, Loss Disc: {lossD:.4f}, Loss Gen: {lossG:.4f}')\n",
    "\n",
    "    with torch.no_grad():\n",
    "        fake = gen(fixed_noise)\n",
    "\n",
    "        image = create_image_with_labels(fake, real)\n",
    "        image.save(f'./training_progress/epoch_{epoch}.png')\n"
   ]
  }
 ],
 "metadata": {
  "kernelspec": {
   "display_name": "Python 3",
   "language": "python",
   "name": "python3"
  },
  "language_info": {
   "codemirror_mode": {
    "name": "ipython",
    "version": 3
   },
   "file_extension": ".py",
   "mimetype": "text/x-python",
   "name": "python",
   "nbconvert_exporter": "python",
   "pygments_lexer": "ipython3",
   "version": "3.9.5"
  },
  "orig_nbformat": 4
 },
 "nbformat": 4,
 "nbformat_minor": 2
}
