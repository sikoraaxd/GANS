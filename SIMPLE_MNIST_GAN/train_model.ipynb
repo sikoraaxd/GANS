{
 "cells": [
  {
   "cell_type": "code",
   "execution_count": 167,
   "metadata": {},
   "outputs": [],
   "source": [
    "import torch\n",
    "import torch.nn as nn\n",
    "from torch.utils.data import DataLoader\n",
    "import torchvision\n",
    "import torchvision.transforms as T\n",
    "import torchvision.datasets as datasets\n",
    "from model import Discriminator, Generator\n",
    "import tqdm\n",
    "\n",
    "from PIL import Image\n",
    "import numpy as np"
   ]
  },
  {
   "cell_type": "code",
   "execution_count": 168,
   "metadata": {},
   "outputs": [],
   "source": [
    "device = torch.device('cuda' if torch.cuda.is_available() else 'cpu')\n",
    "lr = 3e-4\n",
    "z_dim = 64\n",
    "image_dim = 28*28\n",
    "batch_size = 32\n",
    "epochs = 50"
   ]
  },
  {
   "cell_type": "code",
   "execution_count": 169,
   "metadata": {},
   "outputs": [],
   "source": [
    "disc = Discriminator(image_dim).to(device)\n",
    "gen = Generator(z_dim, image_dim).to(device)"
   ]
  },
  {
   "cell_type": "code",
   "execution_count": 170,
   "metadata": {},
   "outputs": [],
   "source": [
    "fixed_noise = torch.randn((batch_size, z_dim)).to(device)\n",
    "transforms = T.Compose(\n",
    "    [T.ToTensor(), T.Normalize((0.5,), (0.5,))]\n",
    ")"
   ]
  },
  {
   "cell_type": "code",
   "execution_count": 171,
   "metadata": {},
   "outputs": [],
   "source": [
    "dataset = datasets.MNIST(root=\"./dataset/\", transform=transforms, download=True)\n",
    "loader = DataLoader(dataset, batch_size=batch_size, shuffle=True)"
   ]
  },
  {
   "cell_type": "code",
   "execution_count": 173,
   "metadata": {},
   "outputs": [],
   "source": [
    "optimizer_disc = torch.optim.Adam(disc.parameters(), lr=lr)\n",
    "optimizer_gen = torch.optim.Adam(gen.parameters(), lr=lr)\n",
    "criterion = nn.BCELoss()"
   ]
  },
  {
   "cell_type": "code",
   "execution_count": 174,
   "metadata": {},
   "outputs": [],
   "source": [
    "def create_image_with_labels(fake_images, real_images):\n",
    "    fake_images = fake_images.cpu().detach().numpy()\n",
    "    real_images = real_images.cpu().detach().numpy()\n",
    "\n",
    "    margin = 10\n",
    "    image_size = 28\n",
    "\n",
    "    image_width = 16*image_size+15*margin\n",
    "    image_height = 4*image_size+3*margin\n",
    "    background_color = (255, 255, 255)\n",
    "    image = Image.new('RGB', (image_width, image_height), background_color)\n",
    "\n",
    "    x = 0\n",
    "    y = 0\n",
    "    for i, img in enumerate(fake_images):\n",
    "        img = img[0] * 255\n",
    "        img = Image.fromarray(np.uint8(img), 'L')\n",
    "        image.paste(img, (x, y))\n",
    "        x += image_size + margin\n",
    "        if i == 15 or i == len(fake_images)-1:\n",
    "            x = 0\n",
    "            y += image_size + margin\n",
    "\n",
    "    for i, img in enumerate(real_images):\n",
    "        img = img[0] * 255\n",
    "        img = Image.fromarray(np.uint8(img), 'L')\n",
    "        image.paste(img, (x, y))\n",
    "        x += image_size + margin\n",
    "        if i == 15 or i == len(real_images)-1:\n",
    "            x = 0\n",
    "            y += image_size + margin\n",
    "\n",
    "    return image"
   ]
  },
  {
   "cell_type": "code",
   "execution_count": null,
   "metadata": {},
   "outputs": [],
   "source": [
    "for epoch in tqdm.tqdm(range(epochs)):\n",
    "    for (real, _) in loader:\n",
    "        real = real.view(-1, 784).to(device)\n",
    "        batch_size = real.shape[0]\n",
    "\n",
    "        noise = torch.randn(batch_size, z_dim).to(device)\n",
    "        fake = gen(noise)\n",
    "\n",
    "        disc_real = disc(real).view(-1)\n",
    "        lossD_real = criterion(disc_real, torch.ones_like(disc_real))\n",
    "\n",
    "        disc_fake = disc(fake).view(-1)\n",
    "        lossD_fake = criterion(disc_fake, torch.zeros_like(disc_fake))\n",
    "\n",
    "        lossD = (lossD_real + lossD_fake)/2\n",
    "        disc.zero_grad()\n",
    "        lossD.backward(retain_graph=True)\n",
    "        optimizer_disc.step()\n",
    "\n",
    "\n",
    "        output = disc(fake).view(-1)\n",
    "        lossG = criterion(output, torch.ones_like(output))\n",
    "        gen.zero_grad()\n",
    "        lossG.backward()\n",
    "        optimizer_gen.step()\n",
    "\n",
    "    print(f'Epoch: {epoch}, Loss Disc: {lossD:.4f}, Loss Gen: {lossG:.4f}')\n",
    "\n",
    "    with torch.no_grad():\n",
    "        fake = gen(fixed_noise).reshape(-1, 1, 28, 28)\n",
    "        real = real.reshape(-1, 1, 28, 28)\n",
    "\n",
    "        image = create_image_with_labels(fake, real)\n",
    "        image.save(f'./training_progress/epoch_{epoch}.png')\n"
   ]
  }
 ],
 "metadata": {
  "kernelspec": {
   "display_name": "Python 3",
   "language": "python",
   "name": "python3"
  },
  "language_info": {
   "codemirror_mode": {
    "name": "ipython",
    "version": 3
   },
   "file_extension": ".py",
   "mimetype": "text/x-python",
   "name": "python",
   "nbconvert_exporter": "python",
   "pygments_lexer": "ipython3",
   "version": "3.9.5"
  },
  "orig_nbformat": 4
 },
 "nbformat": 4,
 "nbformat_minor": 2
}
